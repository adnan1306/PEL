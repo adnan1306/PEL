{
 "cells": [
  {
   "cell_type": "code",
   "execution_count": 1,
   "metadata": {},
   "outputs": [],
   "source": [
    "import numpy as np"
   ]
  },
  {
   "cell_type": "code",
   "execution_count": 31,
   "metadata": {},
   "outputs": [],
   "source": [
    "map_text = open('places_map.txt')"
   ]
  },
  {
   "cell_type": "code",
   "execution_count": 32,
   "metadata": {},
   "outputs": [],
   "source": [
    "map = []\n",
    "\n",
    "for x in map_text:\n",
    "    map.append(int(x.split('\\n')[0]))"
   ]
  },
  {
   "cell_type": "code",
   "execution_count": 96,
   "metadata": {},
   "outputs": [],
   "source": [
    "name = open('classnames_coarse.txt')\n",
    "classname = []\n",
    "for x in name:\n",
    "    classname.append(x.split('\\n')[0])"
   ]
  },
  {
   "cell_type": "code",
   "execution_count": 97,
   "metadata": {},
   "outputs": [
    {
     "data": {
      "text/plain": [
       "['Air_and_Space_Travel',\n",
       " 'Residential_Buildings',\n",
       " 'Entertainment_and_Leisure',\n",
       " 'Historical_and_Cultural_Sites',\n",
       " 'Natural_Landscapes',\n",
       " 'Water_Bodies_and_Features',\n",
       " 'Parks_and_Outdoor_Recreation',\n",
       " 'Sports_Facilities',\n",
       " 'Educational_Institutions',\n",
       " 'Transportation_Hubs',\n",
       " 'Retail_and_Shopping',\n",
       " 'Art_and_Museums',\n",
       " 'Healthcare_and_Wellness',\n",
       " 'Hospitality_and_Accommodation',\n",
       " 'Agricultural_and_Rural',\n",
       " 'Industrial_and_Manufacturing',\n",
       " 'Food_and_Dining',\n",
       " 'Office_and_Business',\n",
       " 'Entertainment_Venues',\n",
       " 'Government_and_Civic Buildings',\n",
       " 'Religious_Buildings',\n",
       " 'Transportation_Vehicles',\n",
       " 'Urban_Outdoor_Spaces',\n",
       " 'Living_Spaces',\n",
       " 'Utility_and_Functional Areas',\n",
       " 'Water_Transport',\n",
       " 'Air_Transport',\n",
       " 'Landscapes_and_Nature',\n",
       " 'Snow_and_Ice_Environments',\n",
       " 'Water_Environments',\n",
       " 'Transportation_Structures',\n",
       " 'Cultural_and_Entertainment',\n",
       " 'Food_Production_and_Processing',\n",
       " 'Health_and_Fitness',\n",
       " 'Education_and_Research',\n",
       " 'Marine_and_Coastal',\n",
       " 'Creative_Spaces',\n",
       " 'Financial_and_Legal',\n",
       " 'Outdoor_Sports',\n",
       " 'Domestic_and_Personal_Care',\n",
       " 'Transportation_Routes',\n",
       " 'Scenic_and_Picturesque_Locations',\n",
       " 'Retail_and_Services',\n",
       " 'Water-Related_Activities',\n",
       " 'Winter_Sports_and_Activities',\n",
       " 'Arts_and_Crafts',\n",
       " 'Transportation_Facilities',\n",
       " 'Historical_and_Heritage_Sites',\n",
       " 'Adventure_and_Exploration',\n",
       " 'Space_sand_Astronomical']"
      ]
     },
     "execution_count": 97,
     "metadata": {},
     "output_type": "execute_result"
    }
   ],
   "source": [
    "classname"
   ]
  },
  {
   "cell_type": "code",
   "execution_count": 33,
   "metadata": {},
   "outputs": [],
   "source": [
    "map = np.array(map)"
   ]
  },
  {
   "cell_type": "code",
   "execution_count": 34,
   "metadata": {},
   "outputs": [],
   "source": [
    "uni_classes = np.unique(map, return_counts=True)"
   ]
  },
  {
   "cell_type": "code",
   "execution_count": 86,
   "metadata": {},
   "outputs": [
    {
     "data": {
      "text/plain": [
       "45"
      ]
     },
     "execution_count": 86,
     "metadata": {},
     "output_type": "execute_result"
    }
   ],
   "source": [
    "len(uni_classes[0])"
   ]
  },
  {
   "cell_type": "code",
   "execution_count": 99,
   "metadata": {},
   "outputs": [
    {
     "data": {
      "text/plain": [
       "['Air_and_Space_Travel',\n",
       " 'Residential_Buildings',\n",
       " 'Entertainment_and_Leisure',\n",
       " 'Historical_and_Cultural_Sites',\n",
       " 'Natural_Landscapes',\n",
       " 'Water_Bodies_and_Features',\n",
       " 'Parks_and_Outdoor_Recreation',\n",
       " 'Sports_Facilities',\n",
       " 'Educational_Institutions',\n",
       " 'Transportation_Hubs',\n",
       " 'Retail_and_Shopping',\n",
       " 'Art_and_Museums',\n",
       " 'Healthcare_and_Wellness',\n",
       " 'Hospitality_and_Accommodation',\n",
       " 'Agricultural_and_Rural',\n",
       " 'Industrial_and_Manufacturing',\n",
       " 'Food_and_Dining',\n",
       " 'Office_and_Business',\n",
       " 'Entertainment_Venues',\n",
       " 'Government_and_Civic Buildings',\n",
       " 'Religious_Buildings',\n",
       " 'Transportation_Vehicles',\n",
       " 'Urban_Outdoor_Spaces',\n",
       " 'Living_Spaces',\n",
       " 'Utility_and_Functional Areas',\n",
       " 'Water_Transport',\n",
       " 'Air_Transport',\n",
       " 'Landscapes_and_Nature',\n",
       " 'Snow_and_Ice_Environments',\n",
       " 'Water_Environments',\n",
       " 'Transportation_Structures',\n",
       " 'Cultural_and_Entertainment',\n",
       " 'Food_Production_and_Processing',\n",
       " 'Health_and_Fitness',\n",
       " 'Education_and_Research',\n",
       " 'Marine_and_Coastal',\n",
       " 'Creative_Spaces',\n",
       " 'Financial_and_Legal',\n",
       " 'Outdoor_Sports',\n",
       " 'Domestic_and_Personal_Care',\n",
       " 'Transportation_Routes',\n",
       " 'Scenic_and_Picturesque_Locations',\n",
       " 'Retail_and_Services',\n",
       " 'Water-Related_Activities',\n",
       " 'Winter_Sports_and_Activities',\n",
       " 'Arts_and_Crafts',\n",
       " 'Transportation_Facilities',\n",
       " 'Historical_and_Heritage_Sites',\n",
       " 'Adventure_and_Exploration',\n",
       " 'Space_sand_Astronomical']"
      ]
     },
     "execution_count": 99,
     "metadata": {},
     "output_type": "execute_result"
    }
   ],
   "source": [
    "classname"
   ]
  },
  {
   "cell_type": "code",
   "execution_count": 45,
   "metadata": {},
   "outputs": [],
   "source": [
    "classes = {} # set of uniques and non zero classes \n",
    "names = [] # list of unique and non zero classes\n"
   ]
  },
  {
   "cell_type": "code",
   "execution_count": 46,
   "metadata": {},
   "outputs": [
    {
     "data": {
      "text/plain": [
       "365"
      ]
     },
     "execution_count": 46,
     "metadata": {},
     "output_type": "execute_result"
    }
   ],
   "source": [
    "c = 0\n"
   ]
  },
  {
   "cell_type": "code",
   "execution_count": 51,
   "metadata": {},
   "outputs": [],
   "source": [
    "reduced_list = []\n",
    "for i in range(50):\n",
    "    if i in uni_classes[0]:\n",
    "        reduced_list.append(i)"
   ]
  },
  {
   "cell_type": "code",
   "execution_count": 68,
   "metadata": {},
   "outputs": [],
   "source": [
    "reduced_list = np.array(reduced_list)"
   ]
  },
  {
   "cell_type": "code",
   "execution_count": 77,
   "metadata": {},
   "outputs": [],
   "source": [
    "reduced_map = []\n",
    "reduced_names = []\n"
   ]
  },
  {
   "cell_type": "code",
   "execution_count": 72,
   "metadata": {},
   "outputs": [
    {
     "data": {
      "text/plain": [
       "44"
      ]
     },
     "execution_count": 72,
     "metadata": {},
     "output_type": "execute_result"
    }
   ],
   "source": [
    "np.where(reduced_list==48)[0][0]"
   ]
  },
  {
   "cell_type": "code",
   "execution_count": 78,
   "metadata": {},
   "outputs": [],
   "source": [
    "for i in map:\n",
    "    reduced_map.append(np.where(reduced_list==i)[0][0])"
   ]
  },
  {
   "cell_type": "code",
   "execution_count": 103,
   "metadata": {},
   "outputs": [],
   "source": [
    "np.save('reduced_map.npy',reduced_map)"
   ]
  },
  {
   "cell_type": "code",
   "execution_count": 84,
   "metadata": {},
   "outputs": [
    {
     "data": {
      "text/plain": [
       "array([ 0,  1,  2,  3,  4,  5,  6,  7,  8,  9, 10, 11, 12, 13, 14, 15, 16,\n",
       "       17, 18, 19, 20, 21, 22, 23, 24, 25, 26, 27, 28, 29, 30, 31, 32, 33,\n",
       "       34, 35, 36, 37, 38, 39, 40, 41, 42, 43, 44])"
      ]
     },
     "execution_count": 84,
     "metadata": {},
     "output_type": "execute_result"
    }
   ],
   "source": [
    "(np.unique(reduced_map))"
   ]
  },
  {
   "cell_type": "code",
   "execution_count": 87,
   "metadata": {},
   "outputs": [
    {
     "data": {
      "text/plain": [
       "44"
      ]
     },
     "execution_count": 87,
     "metadata": {},
     "output_type": "execute_result"
    }
   ],
   "source": [
    "np.max(reduced_map)"
   ]
  },
  {
   "cell_type": "code",
   "execution_count": 98,
   "metadata": {},
   "outputs": [],
   "source": [
    "f = open('reduced_classnames.txt', 'w')\n",
    "\n",
    "for i in (reduced_list):\n",
    "    print(classname[i], file=f)"
   ]
  },
  {
   "cell_type": "code",
   "execution_count": 89,
   "metadata": {},
   "outputs": [
    {
     "data": {
      "text/plain": [
       "['airfield airfield',\n",
       " 'airplane_cabin airplane_cabin',\n",
       " 'airport_terminal airport_terminal',\n",
       " 'alcove alcove',\n",
       " 'alley alley',\n",
       " 'amphitheater amphitheater',\n",
       " 'amusement_arcade amusement_arcade',\n",
       " 'amusement_park amusement_park',\n",
       " 'apartment_building-outdoor apartment_building-outdoor',\n",
       " 'aquarium aquarium',\n",
       " 'aqueduct aqueduct',\n",
       " 'arcade arcade',\n",
       " 'arch arch',\n",
       " 'archaelogical_excavation archaelogical_excavation',\n",
       " 'archive archive',\n",
       " 'arena-hockey arena-hockey',\n",
       " 'arena-performance arena-performance',\n",
       " 'arena-rodeo arena-rodeo',\n",
       " 'army_base army_base',\n",
       " 'art_gallery art_gallery',\n",
       " 'art_school art_school',\n",
       " 'art_studio art_studio',\n",
       " 'artists_loft artists_loft',\n",
       " 'assembly_line assembly_line',\n",
       " 'athletic_field-outdoor athletic_field-outdoor',\n",
       " 'atrium-public atrium-public',\n",
       " 'attic attic',\n",
       " 'auditorium auditorium',\n",
       " 'auto_factory auto_factory',\n",
       " 'auto_showroom auto_showroom',\n",
       " 'badlands badlands',\n",
       " 'bakery-shop bakery-shop',\n",
       " 'balcony-exterior balcony-exterior',\n",
       " 'balcony-interior balcony-interior',\n",
       " 'ball_pit ball_pit',\n",
       " 'ballroom ballroom',\n",
       " 'bamboo_forest bamboo_forest',\n",
       " 'bank_vault bank_vault',\n",
       " 'banquet_hall banquet_hall',\n",
       " 'bar bar',\n",
       " 'barn barn',\n",
       " 'barndoor barndoor',\n",
       " 'baseball_field baseball_field',\n",
       " 'basement basement',\n",
       " 'basketball_court-indoor basketball_court-indoor',\n",
       " 'bathroom bathroom',\n",
       " 'bazaar-indoor bazaar-indoor',\n",
       " 'bazaar-outdoor bazaar-outdoor',\n",
       " 'beach beach',\n",
       " 'beach_house beach_house',\n",
       " 'beauty_salon beauty_salon',\n",
       " 'bedchamber bedchamber',\n",
       " 'bedroom bedroom',\n",
       " 'beer_garden beer_garden',\n",
       " 'beer_hall beer_hall',\n",
       " 'berth berth',\n",
       " 'biology_laboratory biology_laboratory',\n",
       " 'boardwalk boardwalk',\n",
       " 'boat_deck boat_deck',\n",
       " 'boathouse boathouse',\n",
       " 'bookstore bookstore',\n",
       " 'booth-indoor booth-indoor',\n",
       " 'botanical_garden botanical_garden',\n",
       " 'bow_window-indoor bow_window-indoor',\n",
       " 'bowling_alley bowling_alley',\n",
       " 'boxing_ring boxing_ring',\n",
       " 'bridge bridge',\n",
       " 'building_facade building_facade',\n",
       " 'bullring bullring',\n",
       " 'burial_chamber burial_chamber',\n",
       " 'bus_interior bus_interior',\n",
       " 'bus_station-indoor bus_station-indoor',\n",
       " 'butchers_shop butchers_shop',\n",
       " 'butte butte',\n",
       " 'cabin-outdoor cabin-outdoor',\n",
       " 'cafeteria cafeteria',\n",
       " 'campsite campsite',\n",
       " 'campus campus',\n",
       " 'canal-natural canal-natural',\n",
       " 'canal-urban canal-urban',\n",
       " 'candy_store candy_store',\n",
       " 'canyon canyon',\n",
       " 'car_interior car_interior',\n",
       " 'carrousel carrousel',\n",
       " 'castle castle',\n",
       " 'catacomb catacomb',\n",
       " 'cemetery cemetery',\n",
       " 'chalet chalet',\n",
       " 'chemistry_lab chemistry_lab',\n",
       " 'childs_room childs_room',\n",
       " 'church-indoor church-indoor',\n",
       " 'church-outdoor church-outdoor',\n",
       " 'classroom classroom',\n",
       " 'clean_room clean_room',\n",
       " 'cliff cliff',\n",
       " 'closet closet',\n",
       " 'clothing_store clothing_store',\n",
       " 'coast coast',\n",
       " 'cockpit cockpit',\n",
       " 'coffee_shop coffee_shop',\n",
       " 'computer_room computer_room',\n",
       " 'conference_center conference_center',\n",
       " 'conference_room conference_room',\n",
       " 'construction_site construction_site',\n",
       " 'corn_field corn_field',\n",
       " 'corral corral',\n",
       " 'corridor corridor',\n",
       " 'cottage cottage',\n",
       " 'courthouse courthouse',\n",
       " 'courtyard courtyard',\n",
       " 'creek creek',\n",
       " 'crevasse crevasse',\n",
       " 'crosswalk crosswalk',\n",
       " 'dam dam',\n",
       " 'delicatessen delicatessen',\n",
       " 'department_store department_store',\n",
       " 'desert-sand desert-sand',\n",
       " 'desert-vegetation desert-vegetation',\n",
       " 'desert_road desert_road',\n",
       " 'diner-outdoor diner-outdoor',\n",
       " 'dining_hall dining_hall',\n",
       " 'dining_room dining_room',\n",
       " 'discotheque discotheque',\n",
       " 'doorway-outdoor doorway-outdoor',\n",
       " 'dorm_room dorm_room',\n",
       " 'downtown downtown',\n",
       " 'dressing_room dressing_room',\n",
       " 'driveway driveway',\n",
       " 'drugstore drugstore',\n",
       " 'elevator-door elevator-door',\n",
       " 'elevator_lobby elevator_lobby',\n",
       " 'elevator_shaft elevator_shaft',\n",
       " 'embassy embassy',\n",
       " 'engine_room engine_room',\n",
       " 'entrance_hall entrance_hall',\n",
       " 'escalator-indoor escalator-indoor',\n",
       " 'excavation excavation',\n",
       " 'fabric_store fabric_store',\n",
       " 'farm farm',\n",
       " 'fastfood_restaurant fastfood_restaurant',\n",
       " 'field-cultivated field-cultivated',\n",
       " 'field-wild field-wild',\n",
       " 'field_road field_road',\n",
       " 'fire_escape fire_escape',\n",
       " 'fire_station fire_station',\n",
       " 'fishpond fishpond',\n",
       " 'flea_market-indoor flea_market-indoor',\n",
       " 'florist_shop-indoor florist_shop-indoor',\n",
       " 'food_court food_court',\n",
       " 'football_field football_field',\n",
       " 'forest-broadleaf forest-broadleaf',\n",
       " 'forest_path forest_path',\n",
       " 'forest_road forest_road',\n",
       " 'formal_garden formal_garden',\n",
       " 'fountain fountain',\n",
       " 'galley galley',\n",
       " 'garage-indoor garage-indoor',\n",
       " 'garage-outdoor garage-outdoor',\n",
       " 'gas_station gas_station',\n",
       " 'gazebo-exterior gazebo-exterior',\n",
       " 'general_store-indoor general_store-indoor',\n",
       " 'general_store-outdoor general_store-outdoor',\n",
       " 'gift_shop gift_shop',\n",
       " 'glacier glacier',\n",
       " 'golf_course golf_course',\n",
       " 'greenhouse-indoor greenhouse-indoor',\n",
       " 'greenhouse-outdoor greenhouse-outdoor',\n",
       " 'grotto grotto',\n",
       " 'gymnasium-indoor gymnasium-indoor',\n",
       " 'hangar-indoor hangar-indoor',\n",
       " 'hangar-outdoor hangar-outdoor',\n",
       " 'harbor harbor',\n",
       " 'hardware_store hardware_store',\n",
       " 'hayfield hayfield',\n",
       " 'heliport heliport',\n",
       " 'highway highway',\n",
       " 'home_office home_office',\n",
       " 'home_theater home_theater',\n",
       " 'hospital hospital',\n",
       " 'hospital_room hospital_room',\n",
       " 'hot_spring hot_spring',\n",
       " 'hotel-outdoor hotel-outdoor',\n",
       " 'hotel_room hotel_room',\n",
       " 'house house',\n",
       " 'hunting_lodge-outdoor hunting_lodge-outdoor',\n",
       " 'ice_cream_parlor ice_cream_parlor',\n",
       " 'ice_floe ice_floe',\n",
       " 'ice_shelf ice_shelf',\n",
       " 'ice_skating_rink-indoor ice_skating_rink-indoor',\n",
       " 'ice_skating_rink-outdoor ice_skating_rink-outdoor',\n",
       " 'iceberg iceberg',\n",
       " 'igloo igloo',\n",
       " 'industrial_area industrial_area',\n",
       " 'inn-outdoor inn-outdoor',\n",
       " 'islet islet',\n",
       " 'jacuzzi-indoor jacuzzi-indoor',\n",
       " 'jail_cell jail_cell',\n",
       " 'japanese_garden japanese_garden',\n",
       " 'jewelry_shop jewelry_shop',\n",
       " 'junkyard junkyard',\n",
       " 'kasbah kasbah',\n",
       " 'kennel-outdoor kennel-outdoor',\n",
       " 'kindergarden_classroom kindergarden_classroom',\n",
       " 'kitchen kitchen',\n",
       " 'lagoon lagoon',\n",
       " 'lake-natural lake-natural',\n",
       " 'landfill landfill',\n",
       " 'landing_deck landing_deck',\n",
       " 'laundromat laundromat',\n",
       " 'lawn lawn',\n",
       " 'lecture_room lecture_room',\n",
       " 'legislative_chamber legislative_chamber',\n",
       " 'library-indoor library-indoor',\n",
       " 'library-outdoor library-outdoor',\n",
       " 'lighthouse lighthouse',\n",
       " 'living_room living_room',\n",
       " 'loading_dock loading_dock',\n",
       " 'lobby lobby',\n",
       " 'lock_chamber lock_chamber',\n",
       " 'locker_room locker_room',\n",
       " 'mansion mansion',\n",
       " 'manufactured_home manufactured_home',\n",
       " 'market-indoor market-indoor',\n",
       " 'market-outdoor market-outdoor',\n",
       " 'marsh marsh',\n",
       " 'martial_arts_gym martial_arts_gym',\n",
       " 'mausoleum mausoleum',\n",
       " 'medina medina',\n",
       " 'mezzanine mezzanine',\n",
       " 'moat-water moat-water',\n",
       " 'mosque-outdoor mosque-outdoor',\n",
       " 'motel motel',\n",
       " 'mountain mountain',\n",
       " 'mountain_path mountain_path',\n",
       " 'mountain_snowy mountain_snowy',\n",
       " 'movie_theater-indoor movie_theater-indoor',\n",
       " 'museum-indoor museum-indoor',\n",
       " 'museum-outdoor museum-outdoor',\n",
       " 'music_studio music_studio',\n",
       " 'natural_history_museum natural_history_museum',\n",
       " 'nursery nursery',\n",
       " 'nursing_home nursing_home',\n",
       " 'oast_house oast_house',\n",
       " 'ocean ocean',\n",
       " 'office office',\n",
       " 'office_building office_building',\n",
       " 'office_cubicles office_cubicles',\n",
       " 'oilrig oilrig',\n",
       " 'operating_room operating_room',\n",
       " 'orchard orchard',\n",
       " 'orchestra_pit orchestra_pit',\n",
       " 'pagoda pagoda',\n",
       " 'palace palace',\n",
       " 'pantry pantry',\n",
       " 'park park',\n",
       " 'parking_garage-indoor parking_garage-indoor',\n",
       " 'parking_garage-outdoor parking_garage-outdoor',\n",
       " 'parking_lot parking_lot',\n",
       " 'pasture pasture',\n",
       " 'patio patio',\n",
       " 'pavilion pavilion',\n",
       " 'pet_shop pet_shop',\n",
       " 'pharmacy pharmacy',\n",
       " 'phone_booth phone_booth',\n",
       " 'physics_laboratory physics_laboratory',\n",
       " 'picnic_area picnic_area',\n",
       " 'pier pier',\n",
       " 'pizzeria pizzeria',\n",
       " 'playground playground',\n",
       " 'playroom playroom',\n",
       " 'plaza plaza',\n",
       " 'pond pond',\n",
       " 'porch porch',\n",
       " 'promenade promenade',\n",
       " 'pub-indoor pub-indoor',\n",
       " 'racecourse racecourse',\n",
       " 'raceway raceway',\n",
       " 'raft raft',\n",
       " 'railroad_track railroad_track',\n",
       " 'rainforest rainforest',\n",
       " 'reception reception',\n",
       " 'recreation_room recreation_room',\n",
       " 'repair_shop repair_shop',\n",
       " 'residential_neighborhood residential_neighborhood',\n",
       " 'restaurant restaurant',\n",
       " 'restaurant_kitchen restaurant_kitchen',\n",
       " 'restaurant_patio restaurant_patio',\n",
       " 'rice_paddy rice_paddy',\n",
       " 'river river',\n",
       " 'rock_arch rock_arch',\n",
       " 'roof_garden roof_garden',\n",
       " 'rope_bridge rope_bridge',\n",
       " 'ruin ruin',\n",
       " 'runway runway',\n",
       " 'sandbox sandbox',\n",
       " 'sauna sauna',\n",
       " 'schoolhouse schoolhouse',\n",
       " 'science_museum science_museum',\n",
       " 'server_room server_room',\n",
       " 'shed shed',\n",
       " 'shoe_shop shoe_shop',\n",
       " 'shopfront shopfront',\n",
       " 'shopping_mall-indoor shopping_mall-indoor',\n",
       " 'shower shower',\n",
       " 'ski_resort ski_resort',\n",
       " 'ski_slope ski_slope',\n",
       " 'sky sky',\n",
       " 'skyscraper skyscraper',\n",
       " 'slum slum',\n",
       " 'snowfield snowfield',\n",
       " 'soccer_field soccer_field',\n",
       " 'stable stable',\n",
       " 'stadium-baseball stadium-baseball',\n",
       " 'stadium-football stadium-football',\n",
       " 'stadium-soccer stadium-soccer',\n",
       " 'stage-indoor stage-indoor',\n",
       " 'stage-outdoor stage-outdoor',\n",
       " 'staircase staircase',\n",
       " 'storage_room storage_room',\n",
       " 'street street',\n",
       " 'subway_station-platform subway_station-platform',\n",
       " 'supermarket supermarket',\n",
       " 'sushi_bar sushi_bar',\n",
       " 'swamp swamp',\n",
       " 'swimming_hole swimming_hole',\n",
       " 'swimming_pool-indoor swimming_pool-indoor',\n",
       " 'swimming_pool-outdoor swimming_pool-outdoor',\n",
       " 'synagogue-outdoor synagogue-outdoor',\n",
       " 'television_room television_room',\n",
       " 'television_studio television_studio',\n",
       " 'temple-asia temple-asia',\n",
       " 'throne_room throne_room',\n",
       " 'ticket_booth ticket_booth',\n",
       " 'topiary_garden topiary_garden',\n",
       " 'tower tower',\n",
       " 'toyshop toyshop',\n",
       " 'train_interior train_interior',\n",
       " 'train_station-platform train_station-platform',\n",
       " 'tree_farm tree_farm',\n",
       " 'tree_house tree_house',\n",
       " 'trench trench',\n",
       " 'tundra tundra',\n",
       " 'underwater-ocean_deep underwater-ocean_deep',\n",
       " 'utility_room utility_room',\n",
       " 'valley valley',\n",
       " 'vegetable_garden vegetable_garden',\n",
       " 'veterinarians_office veterinarians_office',\n",
       " 'viaduct viaduct',\n",
       " 'village village',\n",
       " 'vineyard vineyard',\n",
       " 'volcano volcano',\n",
       " 'volleyball_court-outdoor volleyball_court-outdoor',\n",
       " 'waiting_room waiting_room',\n",
       " 'water_park water_park',\n",
       " 'water_tower water_tower',\n",
       " 'waterfall waterfall',\n",
       " 'watering_hole watering_hole',\n",
       " 'wave wave',\n",
       " 'wet_bar wet_bar',\n",
       " 'wheat_field wheat_field',\n",
       " 'wind_farm wind_farm',\n",
       " 'windmill windmill',\n",
       " 'yard yard',\n",
       " 'youth_hostel youth_hostel',\n",
       " 'zen_garden zen_garden']"
      ]
     },
     "execution_count": 89,
     "metadata": {},
     "output_type": "execute_result"
    }
   ],
   "source": [
    "classname"
   ]
  },
  {
   "cell_type": "code",
   "execution_count": 93,
   "metadata": {},
   "outputs": [
    {
     "name": "stdout",
     "output_type": "stream",
     "text": [
      "beach beach\n"
     ]
    }
   ],
   "source": [
    "print(classname[i])"
   ]
  },
  {
   "cell_type": "code",
   "execution_count": null,
   "metadata": {},
   "outputs": [],
   "source": []
  }
 ],
 "metadata": {
  "kernelspec": {
   "display_name": "jax_pruner2",
   "language": "python",
   "name": "python3"
  },
  "language_info": {
   "codemirror_mode": {
    "name": "ipython",
    "version": 3
   },
   "file_extension": ".py",
   "mimetype": "text/x-python",
   "name": "python",
   "nbconvert_exporter": "python",
   "pygments_lexer": "ipython3",
   "version": "3.11.3"
  }
 },
 "nbformat": 4,
 "nbformat_minor": 2
}
