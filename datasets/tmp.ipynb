{
 "cells": [
  {
   "cell_type": "code",
   "execution_count": 1,
   "metadata": {},
   "outputs": [],
   "source": [
    "import numpy as np\n"
   ]
  },
  {
   "cell_type": "code",
   "execution_count": 7,
   "metadata": {},
   "outputs": [],
   "source": [
    "mapping = open('Places_LT/places_map.txt')"
   ]
  },
  {
   "cell_type": "code",
   "execution_count": 9,
   "metadata": {},
   "outputs": [],
   "source": [
    "coarse_map = []\n",
    "mapping = open('Places_LT/places_map.txt')\n",
    "for x in mapping:\n",
    "    coarse_map.append(x)"
   ]
  },
  {
   "cell_type": "code",
   "execution_count": 13,
   "metadata": {},
   "outputs": [],
   "source": [
    "np.save('coarse_map.npy', coarse_map)"
   ]
  },
  {
   "cell_type": "code",
   "execution_count": 15,
   "metadata": {},
   "outputs": [],
   "source": [
    "import lt_data_coarse"
   ]
  },
  {
   "cell_type": "code",
   "execution_count": 1,
   "metadata": {},
   "outputs": [
    {
     "ename": "ModuleNotFoundError",
     "evalue": "No module named 'Places_LT_coarse'",
     "output_type": "error",
     "traceback": [
      "\u001b[0;31m---------------------------------------------------------------------------\u001b[0m",
      "\u001b[0;31mModuleNotFoundError\u001b[0m                       Traceback (most recent call last)",
      "Cell \u001b[0;32mIn[1], line 1\u001b[0m\n\u001b[0;32m----> 1\u001b[0m \u001b[39mimport\u001b[39;00m \u001b[39mPlaces_LT_coarse\u001b[39;00m\n",
      "\u001b[0;31mModuleNotFoundError\u001b[0m: No module named 'Places_LT_coarse'"
     ]
    }
   ],
   "source": [
    "import Places_LT_coarse"
   ]
  },
  {
   "cell_type": "code",
   "execution_count": 2,
   "metadata": {},
   "outputs": [],
   "source": [
    "from place_lt_coarse import Places_LT_coarse"
   ]
  },
  {
   "cell_type": "code",
   "execution_count": 3,
   "metadata": {},
   "outputs": [],
   "source": [
    "data = Places_LT_coarse('/home/pytorch/scratch/places_lt')"
   ]
  },
  {
   "cell_type": "code",
   "execution_count": 4,
   "metadata": {},
   "outputs": [
    {
     "data": {
      "text/plain": [
       "array(['Adventure_and_Exploration', 'Agricultural_and_Rural',\n",
       "       'Air_Transport', 'Air_and_Space_Travel', 'Art_and_Museums',\n",
       "       'Creative_Spaces', 'Domestic_and_Personal_Care',\n",
       "       'Education_and_Research', 'Educational_Institutions',\n",
       "       'Entertainment_Venues', 'Entertainment_and_Leisure',\n",
       "       'Financial_and_Legal', 'Food_Production_and_Processing',\n",
       "       'Food_and_Dining', 'Government_and_Civic', 'Health_and_Fitness',\n",
       "       'Healthcare_and_Wellness', 'Historical_and_Cultural_Sites',\n",
       "       'Historical_and_Heritage_Sites', 'Hospitality_and_Accommodation',\n",
       "       'Industrial_and_Manufacturing', 'Landscapes_and_Nature',\n",
       "       'Living_Spaces', 'Marine_and_Coastal', 'Natural_Landscapes',\n",
       "       'Office_and_Business', 'Parks_and_Outdoor_Recreation',\n",
       "       'Religious_Buildings', 'Residential_Buildings',\n",
       "       'Retail_and_Services', 'Retail_and_Shopping',\n",
       "       'Scenic_and_Picturesque_Locations', 'Snow_and_Ice_Environments',\n",
       "       'Sports_Facilities', 'Transportation_Facilities',\n",
       "       'Transportation_Hubs', 'Transportation_Routes',\n",
       "       'Transportation_Structures', 'Transportation_Vehicles',\n",
       "       'Urban_Outdoor_Spaces', 'Utility_and_Functional',\n",
       "       'Water_Bodies_and_Features', 'Water_Environments',\n",
       "       'Water_Transport', 'Winter_Sports_and_Activities'], dtype='<U32')"
      ]
     },
     "execution_count": 4,
     "metadata": {},
     "output_type": "execute_result"
    }
   ],
   "source": [
    "np.unique(data.names)"
   ]
  },
  {
   "cell_type": "code",
   "execution_count": 5,
   "metadata": {},
   "outputs": [
    {
     "data": {
      "text/plain": [
       "(<PIL.Image.Image image mode=RGB size=256x256>, 2, 'Entertainment_and_Leisure')"
      ]
     },
     "execution_count": 5,
     "metadata": {},
     "output_type": "execute_result"
    }
   ],
   "source": [
    "data.__getitem__(2323)"
   ]
  },
  {
   "cell_type": "code",
   "execution_count": null,
   "metadata": {},
   "outputs": [],
   "source": []
  }
 ],
 "metadata": {
  "kernelspec": {
   "display_name": "Python 3",
   "language": "python",
   "name": "python3"
  },
  "language_info": {
   "codemirror_mode": {
    "name": "ipython",
    "version": 3
   },
   "file_extension": ".py",
   "mimetype": "text/x-python",
   "name": "python",
   "nbconvert_exporter": "python",
   "pygments_lexer": "ipython3",
   "version": "3.10.6"
  },
  "orig_nbformat": 4
 },
 "nbformat": 4,
 "nbformat_minor": 2
}
